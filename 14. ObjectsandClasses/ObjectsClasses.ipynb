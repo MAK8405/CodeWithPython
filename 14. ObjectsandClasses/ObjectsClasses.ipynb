{
 "cells": [
  {
   "cell_type": "code",
   "execution_count": 1,
   "metadata": {},
   "outputs": [
    {
     "name": "stdout",
     "output_type": "stream",
     "text": [
      "A Human with name Greg. Their age is 4.\n",
      "Our age is older than their age\n"
     ]
    }
   ],
   "source": [
    "class Human:\n",
    "   \n",
    "    def __init__(self, age, name): \n",
    "        self._age = age \n",
    "        self._name = name\n",
    "  \n",
    "    def __str__(self):\n",
    "        return \"A Human with name \" + self._name + \".\" + \" Their age is \" + str(self._age) + \".\"\n",
    "\n",
    "    def __repr__(self):\n",
    "        return \"A Human with name \" + self._name + \".\" + \" Their age is \" + str(self._age)+ \".\"\n",
    "    \n",
    "    def olderYoungerThan(self, age):\n",
    "        if self._age > age:\n",
    "            print(\"Our age is older than their age\")\n",
    "        elif self._age == age:\n",
    "            print(\"Our age is equal to their age\")\n",
    "        else:\n",
    "            print(\"Our age is less than their age\")\n",
    "\n",
    "\n",
    "h = Human(age=4, name=\"Greg\")\n",
    "\n",
    "print(h) \n",
    "h\n",
    "\n",
    "h._age\n",
    "h._name \n",
    "h.__str__() \n",
    "h.olderYoungerThan(3)"
   ]
  }
 ],
 "metadata": {
  "kernelspec": {
   "display_name": "Python 3",
   "language": "python",
   "name": "python3"
  },
  "language_info": {
   "codemirror_mode": {
    "name": "ipython",
    "version": 3
   },
   "file_extension": ".py",
   "mimetype": "text/x-python",
   "name": "python",
   "nbconvert_exporter": "python",
   "pygments_lexer": "ipython3",
   "version": "3.13.0"
  }
 },
 "nbformat": 4,
 "nbformat_minor": 2
}
